{
  "cells": [
    {
      "cell_type": "markdown",
      "metadata": {
        "colab_type": "text",
        "id": "view-in-github"
      },
      "source": [
        "<a href=\"https://colab.research.google.com/github/Darlan-Almeida/Noisy-Store/blob/Analytics/Noisy.ipynb\" target=\"_parent\"><img src=\"https://colab.research.google.com/assets/colab-badge.svg\" alt=\"Open In Colab\"/></a>"
      ]
    },
    {
      "cell_type": "code",
      "execution_count": null,
      "metadata": {
        "id": "vAR-OJDYN82w"
      },
      "outputs": [],
      "source": []
    },
    {
      "cell_type": "markdown",
      "metadata": {
        "id": "Y08dbVTiN8mM"
      },
      "source": [
        "Bibliotecas utils"
      ]
    },
    {
      "cell_type": "code",
      "execution_count": 1,
      "metadata": {
        "colab": {
          "base_uri": "https://localhost:8080/"
        },
        "collapsed": true,
        "id": "oAQXyqywTY1h",
        "outputId": "1afdc09c-21f1-4898-e2e6-90450f1817ff"
      },
      "outputs": [
        {
          "name": "stdout",
          "output_type": "stream",
          "text": [
            "Collecting Faker\n",
            "  Downloading Faker-25.2.0-py3-none-any.whl.metadata (15 kB)\n",
            "Requirement already satisfied: python-dateutil>=2.4 in /home/codespace/.local/lib/python3.10/site-packages (from Faker) (2.9.0.post0)\n",
            "Requirement already satisfied: six>=1.5 in /home/codespace/.local/lib/python3.10/site-packages (from python-dateutil>=2.4->Faker) (1.16.0)\n",
            "Downloading Faker-25.2.0-py3-none-any.whl (1.8 MB)\n",
            "\u001b[2K   \u001b[90m━━━━━━━━━━━━━━━━━━━━━━━━━━━━━━━━━━━━━━━━\u001b[0m \u001b[32m1.8/1.8 MB\u001b[0m \u001b[31m13.6 MB/s\u001b[0m eta \u001b[36m0:00:00\u001b[0m00:01\u001b[0m00:01\u001b[0m\n",
            "\u001b[?25hInstalling collected packages: Faker\n",
            "Successfully installed Faker-25.2.0\n",
            "Requirement already satisfied: pandas in /home/codespace/.local/lib/python3.10/site-packages (2.2.1)\n",
            "Requirement already satisfied: numpy<2,>=1.22.4 in /home/codespace/.local/lib/python3.10/site-packages (from pandas) (1.26.4)\n",
            "Requirement already satisfied: python-dateutil>=2.8.2 in /home/codespace/.local/lib/python3.10/site-packages (from pandas) (2.9.0.post0)\n",
            "Requirement already satisfied: pytz>=2020.1 in /home/codespace/.local/lib/python3.10/site-packages (from pandas) (2024.1)\n",
            "Requirement already satisfied: tzdata>=2022.7 in /home/codespace/.local/lib/python3.10/site-packages (from pandas) (2024.1)\n",
            "Requirement already satisfied: six>=1.5 in /home/codespace/.local/lib/python3.10/site-packages (from python-dateutil>=2.8.2->pandas) (1.16.0)\n"
          ]
        }
      ],
      "source": [
        "!pip install Faker\n",
        "!pip install pandas"
      ]
    },
    {
      "cell_type": "markdown",
      "metadata": {
        "id": "bEfF-6yySR9u"
      },
      "source": [
        "# Carregar o arqivo cliente.csv"
      ]
    },
    {
      "cell_type": "code",
      "execution_count": null,
      "metadata": {
        "colab": {
          "base_uri": "https://localhost:8080/",
          "height": 326
        },
        "collapsed": true,
        "id": "vb4d_Ei_Ii18",
        "outputId": "b3149327-429e-48d3-b3da-56361a4efdaa"
      },
      "outputs": [
        {
          "data": {
            "text/html": [
              "\n",
              "     <input type=\"file\" id=\"files-34c999e3-718f-447a-a709-75ba182ff327\" name=\"files[]\" multiple disabled\n",
              "        style=\"border:none\" />\n",
              "     <output id=\"result-34c999e3-718f-447a-a709-75ba182ff327\">\n",
              "      Upload widget is only available when the cell has been executed in the\n",
              "      current browser session. Please rerun this cell to enable.\n",
              "      </output>\n",
              "      <script>// Copyright 2017 Google LLC\n",
              "//\n",
              "// Licensed under the Apache License, Version 2.0 (the \"License\");\n",
              "// you may not use this file except in compliance with the License.\n",
              "// You may obtain a copy of the License at\n",
              "//\n",
              "//      http://www.apache.org/licenses/LICENSE-2.0\n",
              "//\n",
              "// Unless required by applicable law or agreed to in writing, software\n",
              "// distributed under the License is distributed on an \"AS IS\" BASIS,\n",
              "// WITHOUT WARRANTIES OR CONDITIONS OF ANY KIND, either express or implied.\n",
              "// See the License for the specific language governing permissions and\n",
              "// limitations under the License.\n",
              "\n",
              "/**\n",
              " * @fileoverview Helpers for google.colab Python module.\n",
              " */\n",
              "(function(scope) {\n",
              "function span(text, styleAttributes = {}) {\n",
              "  const element = document.createElement('span');\n",
              "  element.textContent = text;\n",
              "  for (const key of Object.keys(styleAttributes)) {\n",
              "    element.style[key] = styleAttributes[key];\n",
              "  }\n",
              "  return element;\n",
              "}\n",
              "\n",
              "// Max number of bytes which will be uploaded at a time.\n",
              "const MAX_PAYLOAD_SIZE = 100 * 1024;\n",
              "\n",
              "function _uploadFiles(inputId, outputId) {\n",
              "  const steps = uploadFilesStep(inputId, outputId);\n",
              "  const outputElement = document.getElementById(outputId);\n",
              "  // Cache steps on the outputElement to make it available for the next call\n",
              "  // to uploadFilesContinue from Python.\n",
              "  outputElement.steps = steps;\n",
              "\n",
              "  return _uploadFilesContinue(outputId);\n",
              "}\n",
              "\n",
              "// This is roughly an async generator (not supported in the browser yet),\n",
              "// where there are multiple asynchronous steps and the Python side is going\n",
              "// to poll for completion of each step.\n",
              "// This uses a Promise to block the python side on completion of each step,\n",
              "// then passes the result of the previous step as the input to the next step.\n",
              "function _uploadFilesContinue(outputId) {\n",
              "  const outputElement = document.getElementById(outputId);\n",
              "  const steps = outputElement.steps;\n",
              "\n",
              "  const next = steps.next(outputElement.lastPromiseValue);\n",
              "  return Promise.resolve(next.value.promise).then((value) => {\n",
              "    // Cache the last promise value to make it available to the next\n",
              "    // step of the generator.\n",
              "    outputElement.lastPromiseValue = value;\n",
              "    return next.value.response;\n",
              "  });\n",
              "}\n",
              "\n",
              "/**\n",
              " * Generator function which is called between each async step of the upload\n",
              " * process.\n",
              " * @param {string} inputId Element ID of the input file picker element.\n",
              " * @param {string} outputId Element ID of the output display.\n",
              " * @return {!Iterable<!Object>} Iterable of next steps.\n",
              " */\n",
              "function* uploadFilesStep(inputId, outputId) {\n",
              "  const inputElement = document.getElementById(inputId);\n",
              "  inputElement.disabled = false;\n",
              "\n",
              "  const outputElement = document.getElementById(outputId);\n",
              "  outputElement.innerHTML = '';\n",
              "\n",
              "  const pickedPromise = new Promise((resolve) => {\n",
              "    inputElement.addEventListener('change', (e) => {\n",
              "      resolve(e.target.files);\n",
              "    });\n",
              "  });\n",
              "\n",
              "  const cancel = document.createElement('button');\n",
              "  inputElement.parentElement.appendChild(cancel);\n",
              "  cancel.textContent = 'Cancel upload';\n",
              "  const cancelPromise = new Promise((resolve) => {\n",
              "    cancel.onclick = () => {\n",
              "      resolve(null);\n",
              "    };\n",
              "  });\n",
              "\n",
              "  // Wait for the user to pick the files.\n",
              "  const files = yield {\n",
              "    promise: Promise.race([pickedPromise, cancelPromise]),\n",
              "    response: {\n",
              "      action: 'starting',\n",
              "    }\n",
              "  };\n",
              "\n",
              "  cancel.remove();\n",
              "\n",
              "  // Disable the input element since further picks are not allowed.\n",
              "  inputElement.disabled = true;\n",
              "\n",
              "  if (!files) {\n",
              "    return {\n",
              "      response: {\n",
              "        action: 'complete',\n",
              "      }\n",
              "    };\n",
              "  }\n",
              "\n",
              "  for (const file of files) {\n",
              "    const li = document.createElement('li');\n",
              "    li.append(span(file.name, {fontWeight: 'bold'}));\n",
              "    li.append(span(\n",
              "        `(${file.type || 'n/a'}) - ${file.size} bytes, ` +\n",
              "        `last modified: ${\n",
              "            file.lastModifiedDate ? file.lastModifiedDate.toLocaleDateString() :\n",
              "                                    'n/a'} - `));\n",
              "    const percent = span('0% done');\n",
              "    li.appendChild(percent);\n",
              "\n",
              "    outputElement.appendChild(li);\n",
              "\n",
              "    const fileDataPromise = new Promise((resolve) => {\n",
              "      const reader = new FileReader();\n",
              "      reader.onload = (e) => {\n",
              "        resolve(e.target.result);\n",
              "      };\n",
              "      reader.readAsArrayBuffer(file);\n",
              "    });\n",
              "    // Wait for the data to be ready.\n",
              "    let fileData = yield {\n",
              "      promise: fileDataPromise,\n",
              "      response: {\n",
              "        action: 'continue',\n",
              "      }\n",
              "    };\n",
              "\n",
              "    // Use a chunked sending to avoid message size limits. See b/62115660.\n",
              "    let position = 0;\n",
              "    do {\n",
              "      const length = Math.min(fileData.byteLength - position, MAX_PAYLOAD_SIZE);\n",
              "      const chunk = new Uint8Array(fileData, position, length);\n",
              "      position += length;\n",
              "\n",
              "      const base64 = btoa(String.fromCharCode.apply(null, chunk));\n",
              "      yield {\n",
              "        response: {\n",
              "          action: 'append',\n",
              "          file: file.name,\n",
              "          data: base64,\n",
              "        },\n",
              "      };\n",
              "\n",
              "      let percentDone = fileData.byteLength === 0 ?\n",
              "          100 :\n",
              "          Math.round((position / fileData.byteLength) * 100);\n",
              "      percent.textContent = `${percentDone}% done`;\n",
              "\n",
              "    } while (position < fileData.byteLength);\n",
              "  }\n",
              "\n",
              "  // All done.\n",
              "  yield {\n",
              "    response: {\n",
              "      action: 'complete',\n",
              "    }\n",
              "  };\n",
              "}\n",
              "\n",
              "scope.google = scope.google || {};\n",
              "scope.google.colab = scope.google.colab || {};\n",
              "scope.google.colab._files = {\n",
              "  _uploadFiles,\n",
              "  _uploadFilesContinue,\n",
              "};\n",
              "})(self);\n",
              "</script> "
            ],
            "text/plain": [
              "<IPython.core.display.HTML object>"
            ]
          },
          "metadata": {},
          "output_type": "display_data"
        },
        {
          "ename": "KeyboardInterrupt",
          "evalue": "",
          "output_type": "error",
          "traceback": [
            "\u001b[0;31m---------------------------------------------------------------------------\u001b[0m",
            "\u001b[0;31mKeyboardInterrupt\u001b[0m                         Traceback (most recent call last)",
            "\u001b[0;32m<ipython-input-67-21dc3c638f66>\u001b[0m in \u001b[0;36m<cell line: 2>\u001b[0;34m()\u001b[0m\n\u001b[1;32m      1\u001b[0m \u001b[0;32mfrom\u001b[0m \u001b[0mgoogle\u001b[0m\u001b[0;34m.\u001b[0m\u001b[0mcolab\u001b[0m \u001b[0;32mimport\u001b[0m \u001b[0mfiles\u001b[0m\u001b[0;34m\u001b[0m\u001b[0;34m\u001b[0m\u001b[0m\n\u001b[0;32m----> 2\u001b[0;31m \u001b[0muploaded\u001b[0m \u001b[0;34m=\u001b[0m \u001b[0mfiles\u001b[0m\u001b[0;34m.\u001b[0m\u001b[0mupload\u001b[0m\u001b[0;34m(\u001b[0m\u001b[0;34m)\u001b[0m\u001b[0;34m\u001b[0m\u001b[0;34m\u001b[0m\u001b[0m\n\u001b[0m",
            "\u001b[0;32m/usr/local/lib/python3.10/dist-packages/google/colab/files.py\u001b[0m in \u001b[0;36mupload\u001b[0;34m()\u001b[0m\n\u001b[1;32m     67\u001b[0m   \"\"\"\n\u001b[1;32m     68\u001b[0m \u001b[0;34m\u001b[0m\u001b[0m\n\u001b[0;32m---> 69\u001b[0;31m   \u001b[0muploaded_files\u001b[0m \u001b[0;34m=\u001b[0m \u001b[0m_upload_files\u001b[0m\u001b[0;34m(\u001b[0m\u001b[0mmultiple\u001b[0m\u001b[0;34m=\u001b[0m\u001b[0;32mTrue\u001b[0m\u001b[0;34m)\u001b[0m\u001b[0;34m\u001b[0m\u001b[0;34m\u001b[0m\u001b[0m\n\u001b[0m\u001b[1;32m     70\u001b[0m   \u001b[0;31m# Mapping from original filename to filename as saved locally.\u001b[0m\u001b[0;34m\u001b[0m\u001b[0;34m\u001b[0m\u001b[0m\n\u001b[1;32m     71\u001b[0m   \u001b[0mlocal_filenames\u001b[0m \u001b[0;34m=\u001b[0m \u001b[0mdict\u001b[0m\u001b[0;34m(\u001b[0m\u001b[0;34m)\u001b[0m\u001b[0;34m\u001b[0m\u001b[0;34m\u001b[0m\u001b[0m\n",
            "\u001b[0;32m/usr/local/lib/python3.10/dist-packages/google/colab/files.py\u001b[0m in \u001b[0;36m_upload_files\u001b[0;34m(multiple)\u001b[0m\n\u001b[1;32m    154\u001b[0m \u001b[0;34m\u001b[0m\u001b[0m\n\u001b[1;32m    155\u001b[0m   \u001b[0;31m# First result is always an indication that the file picker has completed.\u001b[0m\u001b[0;34m\u001b[0m\u001b[0;34m\u001b[0m\u001b[0m\n\u001b[0;32m--> 156\u001b[0;31m   result = _output.eval_js(\n\u001b[0m\u001b[1;32m    157\u001b[0m       'google.colab._files._uploadFiles(\"{input_id}\", \"{output_id}\")'.format(\n\u001b[1;32m    158\u001b[0m           \u001b[0minput_id\u001b[0m\u001b[0;34m=\u001b[0m\u001b[0minput_id\u001b[0m\u001b[0;34m,\u001b[0m \u001b[0moutput_id\u001b[0m\u001b[0;34m=\u001b[0m\u001b[0moutput_id\u001b[0m\u001b[0;34m\u001b[0m\u001b[0;34m\u001b[0m\u001b[0m\n",
            "\u001b[0;32m/usr/local/lib/python3.10/dist-packages/google/colab/output/_js.py\u001b[0m in \u001b[0;36meval_js\u001b[0;34m(script, ignore_result, timeout_sec)\u001b[0m\n\u001b[1;32m     38\u001b[0m   \u001b[0;32mif\u001b[0m \u001b[0mignore_result\u001b[0m\u001b[0;34m:\u001b[0m\u001b[0;34m\u001b[0m\u001b[0;34m\u001b[0m\u001b[0m\n\u001b[1;32m     39\u001b[0m     \u001b[0;32mreturn\u001b[0m\u001b[0;34m\u001b[0m\u001b[0;34m\u001b[0m\u001b[0m\n\u001b[0;32m---> 40\u001b[0;31m   \u001b[0;32mreturn\u001b[0m \u001b[0m_message\u001b[0m\u001b[0;34m.\u001b[0m\u001b[0mread_reply_from_input\u001b[0m\u001b[0;34m(\u001b[0m\u001b[0mrequest_id\u001b[0m\u001b[0;34m,\u001b[0m \u001b[0mtimeout_sec\u001b[0m\u001b[0;34m)\u001b[0m\u001b[0;34m\u001b[0m\u001b[0;34m\u001b[0m\u001b[0m\n\u001b[0m\u001b[1;32m     41\u001b[0m \u001b[0;34m\u001b[0m\u001b[0m\n\u001b[1;32m     42\u001b[0m \u001b[0;34m\u001b[0m\u001b[0m\n",
            "\u001b[0;32m/usr/local/lib/python3.10/dist-packages/google/colab/_message.py\u001b[0m in \u001b[0;36mread_reply_from_input\u001b[0;34m(message_id, timeout_sec)\u001b[0m\n\u001b[1;32m     94\u001b[0m     \u001b[0mreply\u001b[0m \u001b[0;34m=\u001b[0m \u001b[0m_read_next_input_message\u001b[0m\u001b[0;34m(\u001b[0m\u001b[0;34m)\u001b[0m\u001b[0;34m\u001b[0m\u001b[0;34m\u001b[0m\u001b[0m\n\u001b[1;32m     95\u001b[0m     \u001b[0;32mif\u001b[0m \u001b[0mreply\u001b[0m \u001b[0;34m==\u001b[0m \u001b[0m_NOT_READY\u001b[0m \u001b[0;32mor\u001b[0m \u001b[0;32mnot\u001b[0m \u001b[0misinstance\u001b[0m\u001b[0;34m(\u001b[0m\u001b[0mreply\u001b[0m\u001b[0;34m,\u001b[0m \u001b[0mdict\u001b[0m\u001b[0;34m)\u001b[0m\u001b[0;34m:\u001b[0m\u001b[0;34m\u001b[0m\u001b[0;34m\u001b[0m\u001b[0m\n\u001b[0;32m---> 96\u001b[0;31m       \u001b[0mtime\u001b[0m\u001b[0;34m.\u001b[0m\u001b[0msleep\u001b[0m\u001b[0;34m(\u001b[0m\u001b[0;36m0.025\u001b[0m\u001b[0;34m)\u001b[0m\u001b[0;34m\u001b[0m\u001b[0;34m\u001b[0m\u001b[0m\n\u001b[0m\u001b[1;32m     97\u001b[0m       \u001b[0;32mcontinue\u001b[0m\u001b[0;34m\u001b[0m\u001b[0;34m\u001b[0m\u001b[0m\n\u001b[1;32m     98\u001b[0m     if (\n",
            "\u001b[0;31mKeyboardInterrupt\u001b[0m: "
          ]
        }
      ],
      "source": [
        "from google.colab import files\n",
        "uploaded = files.upload()"
      ]
    },
    {
      "cell_type": "markdown",
      "metadata": {
        "id": "WyQ6NVdJOI_O"
      },
      "source": [
        "# Abrir o arquivo clientes.csv\n"
      ]
    },
    {
      "cell_type": "code",
      "execution_count": 3,
      "metadata": {
        "colab": {
          "base_uri": "https://localhost:8080/"
        },
        "collapsed": true,
        "id": "E8dsIk-9OXhT",
        "outputId": "ddc7133f-513e-4366-e530-556de766dea9"
      },
      "outputs": [
        {
          "name": "stdout",
          "output_type": "stream",
          "text": [
            "\n"
          ]
        }
      ],
      "source": [
        "arquivo = open('Clientes.csv')\n",
        "print(arquivo.read())"
      ]
    },
    {
      "cell_type": "markdown",
      "metadata": {
        "id": "wczl_8t1ZCcN"
      },
      "source": [
        "DSS DOS ESTADOS DO BRASIL EM UM DICT\n"
      ]
    },
    {
      "cell_type": "code",
      "execution_count": 6,
      "metadata": {
        "colab": {
          "base_uri": "https://localhost:8080/"
        },
        "id": "l5G1iR95ZH7c",
        "outputId": "6218b855-1144-4492-bbca-7d0d4e7ca683"
      },
      "outputs": [
        {
          "name": "stdout",
          "output_type": "stream",
          "text": [
            "['68', '82', '96', '92', '97', '71', '73', '74', '75', '77', '85', '88', '61', '27', '28', '62', '64', '98', '99', '65', '66', '67', '31', '32', '33', '34', '35', '37', '38', '91', '93', '94', '83', '41', '42', '43', '44', '45', '46', '81', '87', '86', '89', '21', '22', '24', '84', '51', '53', '54', '55', '69', '95', '47', '48', '49', '11', '12', '13', '14', '15', '16', '17', '18', '19', '79', '63']\n"
          ]
        }
      ],
      "source": [
        "# DDDs organizados por estado\n",
        "ddds = {\n",
        "    'acre': ['68'],\n",
        "    'alagoas': ['82'],\n",
        "    'amapa': ['96'],\n",
        "    'amazonas': ['92', '97'],\n",
        "    'bahia': ['71', '73', '74', '75', '77'],\n",
        "    'ceara': ['85', '88'],\n",
        "    'distrito_federal': ['61'],\n",
        "    'espirito santo': ['27', '28'],\n",
        "    'goias': ['62', '64'],\n",
        "    'maranhao': ['98', '99'],\n",
        "    'mato grosso': ['65', '66'],\n",
        "    'mato grosso do sul': ['67'],\n",
        "    'minas gerais': ['31', '32', '33', '34', '35', '37', '38'],\n",
        "    'para': ['91', '93', '94'],\n",
        "    'paraiba': ['83'],\n",
        "    'parana': ['41', '42', '43', '44', '45', '46'],\n",
        "    'pernambuco': ['81', '87'],\n",
        "    'piaui': ['86', '89'],\n",
        "    'rio de janeiro': ['21', '22', '24'],\n",
        "    'rio grande do norte': ['84'],\n",
        "    'rio grande do sul': ['51', '53', '54', '55'],\n",
        "    'rondonia': ['69'],\n",
        "    'roraima': ['95'],\n",
        "    'santa catarina': ['47', '48', '49'],\n",
        "    'sao paulo': ['11', '12', '13', '14', '15', '16', '17', '18', '19'],\n",
        "    'sergipe': ['79'],\n",
        "    'tocantins': ['63']\n",
        "}\n",
        "\n",
        "apenas_ddd = []\n",
        "for i in ddds.items():\n",
        "    for j in i[1]:\n",
        "        apenas_ddd.append(j)\n",
        "print(apenas_ddd)"
      ]
    },
    {
      "cell_type": "markdown",
      "metadata": {
        "id": "etDpJ_BgIV21"
      },
      "source": [
        "Criar Base de dados Fakes com 1000 registros Clientes com Nome , Email ,Numero com DD brasileiro , Cargo. Colocar em arquivo clientes.\n",
        "csv\n",
        "\n"
      ]
    },
    {
      "cell_type": "code",
      "execution_count": 17,
      "metadata": {
        "collapsed": true,
        "id": "gT_VKfvdSsc6"
      },
      "outputs": [],
      "source": [
        "from faker import Faker\n",
        "import csv\n",
        "import datetime\n",
        "from random import random , randint\n",
        "\n",
        "fake = Faker('pt_BR')\n",
        "\n",
        "num_colunas = 100000\n",
        "\n",
        "colunas = [\"nome\", \"email\", \"telefone\", \"cargo\", \"data\", 'estado', 'genero', ]\n",
        "\n",
        "cargos = ['Diretor', 'Vice-Diretor', 'Coordenador', 'Professor', 'Assitente Administrativo' , 'Orientador Educacional']\n",
        "\n",
        "def fake_numero_br():\n",
        "    phone_number = f\"+55 ({apenas_ddd[randint(0, 66)]}) 9{randint(1000, 9999)}-{randint(1000, 9999)}\"\n",
        "    return phone_number\n",
        "\n",
        "with open('Clientes.csv', 'w', newline='') as arquivo:\n",
        "  writer = csv.writer(arquivo)\n",
        "  writer.writerow(colunas)\n",
        "  for i in range(num_colunas):\n",
        "\n",
        "    nome = fake.name()\n",
        "    email = fake.email()\n",
        "    telefone = fake_numero_br()\n",
        "    cargo = cargos[randint(0,5)]\n",
        "    data = fake.date_between_dates(\n",
        "            date_start=datetime.date(2024, 1, 1),\n",
        "                                date_end=datetime.date(2024, 12, 31)\n",
        "        )\n",
        "\n",
        "    genero = \"Não identificado\"\n",
        "    writer.writerow([nome, email , telefone, cargo, data])"
      ]
    },
    {
      "cell_type": "markdown",
      "metadata": {
        "id": "WhiBfvZVWRJE"
      },
      "source": [
        "Visualizar arquivo em dataframe"
      ]
    },
    {
      "cell_type": "code",
      "execution_count": 20,
      "metadata": {
        "colab": {
          "base_uri": "https://localhost:8080/",
          "height": 206
        },
        "id": "v3QgevX3WQV9",
        "outputId": "dc100cbc-f3ed-4ef4-b561-174f38432af5"
      },
      "outputs": [
        {
          "data": {
            "text/html": [
              "<div>\n",
              "<style scoped>\n",
              "    .dataframe tbody tr th:only-of-type {\n",
              "        vertical-align: middle;\n",
              "    }\n",
              "\n",
              "    .dataframe tbody tr th {\n",
              "        vertical-align: top;\n",
              "    }\n",
              "\n",
              "    .dataframe thead th {\n",
              "        text-align: right;\n",
              "    }\n",
              "</style>\n",
              "<table border=\"1\" class=\"dataframe\">\n",
              "  <thead>\n",
              "    <tr style=\"text-align: right;\">\n",
              "      <th></th>\n",
              "      <th>nome</th>\n",
              "      <th>email</th>\n",
              "      <th>telefone</th>\n",
              "      <th>cargo</th>\n",
              "      <th>data</th>\n",
              "      <th>estado</th>\n",
              "      <th>genero</th>\n",
              "    </tr>\n",
              "  </thead>\n",
              "  <tbody>\n",
              "    <tr>\n",
              "      <th>0</th>\n",
              "      <td>Maria Liz Siqueira</td>\n",
              "      <td>evelyngarcia@example.org</td>\n",
              "      <td>+55 (32) 92061-4298</td>\n",
              "      <td>Professor</td>\n",
              "      <td>2024-10-04</td>\n",
              "      <td>minas gerais</td>\n",
              "      <td>Não indentificado</td>\n",
              "    </tr>\n",
              "    <tr>\n",
              "      <th>1</th>\n",
              "      <td>Davi Lucca Silva</td>\n",
              "      <td>murilo96@example.net</td>\n",
              "      <td>+55 (54) 97592-7937</td>\n",
              "      <td>Coordenador</td>\n",
              "      <td>2024-08-01</td>\n",
              "      <td>rio grande do sul</td>\n",
              "      <td>Não indentificado</td>\n",
              "    </tr>\n",
              "    <tr>\n",
              "      <th>2</th>\n",
              "      <td>Luigi Pires</td>\n",
              "      <td>kleao@example.net</td>\n",
              "      <td>+55 (42) 98467-7827</td>\n",
              "      <td>Professor</td>\n",
              "      <td>2024-09-11</td>\n",
              "      <td>parana</td>\n",
              "      <td>Não indentificado</td>\n",
              "    </tr>\n",
              "    <tr>\n",
              "      <th>3</th>\n",
              "      <td>João Garcia</td>\n",
              "      <td>lauramachado@example.com</td>\n",
              "      <td>+55 (67) 97690-3404</td>\n",
              "      <td>Assitente Administrativo</td>\n",
              "      <td>2024-01-12</td>\n",
              "      <td>mato grosso do sul</td>\n",
              "      <td>Não indentificado</td>\n",
              "    </tr>\n",
              "    <tr>\n",
              "      <th>4</th>\n",
              "      <td>Davi Viana</td>\n",
              "      <td>pedro-miguel27@example.net</td>\n",
              "      <td>+55 (89) 98146-9323</td>\n",
              "      <td>Coordenador</td>\n",
              "      <td>2024-05-06</td>\n",
              "      <td>piaui</td>\n",
              "      <td>Não indentificado</td>\n",
              "    </tr>\n",
              "  </tbody>\n",
              "</table>\n",
              "</div>"
            ],
            "text/plain": [
              "                 nome                       email             telefone  \\\n",
              "0  Maria Liz Siqueira    evelyngarcia@example.org  +55 (32) 92061-4298   \n",
              "1    Davi Lucca Silva        murilo96@example.net  +55 (54) 97592-7937   \n",
              "2         Luigi Pires           kleao@example.net  +55 (42) 98467-7827   \n",
              "3         João Garcia    lauramachado@example.com  +55 (67) 97690-3404   \n",
              "4          Davi Viana  pedro-miguel27@example.net  +55 (89) 98146-9323   \n",
              "\n",
              "                      cargo        data              estado             genero  \n",
              "0                 Professor  2024-10-04        minas gerais  Não indentificado  \n",
              "1               Coordenador  2024-08-01   rio grande do sul  Não indentificado  \n",
              "2                 Professor  2024-09-11              parana  Não indentificado  \n",
              "3  Assitente Administrativo  2024-01-12  mato grosso do sul  Não indentificado  \n",
              "4               Coordenador  2024-05-06               piaui  Não indentificado  "
            ]
          },
          "execution_count": 20,
          "metadata": {},
          "output_type": "execute_result"
        }
      ],
      "source": [
        "import pandas as pd\n",
        "\n",
        "df = pd.read_csv(\"Clientes.csv\")\n",
        "df.head()\n"
      ]
    },
    {
      "cell_type": "markdown",
      "metadata": {
        "id": "oPSgU3V1PoyS"
      },
      "source": [
        "\n",
        "\n",
        "```\n",
        "# Isto está formatado como código\n",
        "```\n",
        "\n",
        "preencher a coluna estado pelo número de telefone e a coluna genêro por não identificado."
      ]
    },
    {
      "cell_type": "code",
      "execution_count": 19,
      "metadata": {
        "id": "7qrQTtYXP21M"
      },
      "outputs": [],
      "source": [
        "import re\n",
        "\n",
        "def busca_estado(telefone):\n",
        "  padrao = r'\\((.*?)\\)'\n",
        "  resultado_ddd = re.search(padrao, telefone).group(1)\n",
        "\n",
        "  for i in ddds.items():\n",
        "    estado = i[0]\n",
        "    for j in i[1]:\n",
        "        if j == resultado_ddd:\n",
        "          return (estado)\n",
        "\n",
        "df['estado']= df['telefone'].apply(busca_estado)\n",
        "df['genero'] = 'Não indentificado'\n",
        "\n",
        "\n",
        "df.to_csv('Clientes.csv' , index=False)"
      ]
    },
    {
      "cell_type": "markdown",
      "metadata": {
        "id": "hmYW35QmNQ29"
      },
      "source": [
        "Visualizar a distribuição dos cargos através de um gráfico de barras:\n"
      ]
    },
    {
      "cell_type": "code",
      "execution_count": 21,
      "metadata": {
        "colab": {
          "base_uri": "https://localhost:8080/",
          "height": 698
        },
        "id": "Cyz-1XZhNLH1",
        "outputId": "9b491367-27c8-4974-9f57-0a2e0eb99b0b"
      },
      "outputs": [
        {
          "data": {
            "image/png": "[encoded data removed]",
            "text/plain": [
              "<Figure size 1000x600 with 1 Axes>"
            ]
          },
          "metadata": {},
          "output_type": "display_data"
        }
      ],
      "source": [
        "import matplotlib.pyplot as plt\n",
        "\n",
        "contagem_cargos = df['cargo'].value_counts()\n",
        "\n",
        "plt.figure(figsize=(10,6))\n",
        "contagem_cargos.plot(kind='bar')\n",
        "plt.xlabel('cargo')\n",
        "plt.ylabel('Frequencia')\n",
        "plt.show()"
      ]
    },
    {
      "cell_type": "markdown",
      "metadata": {
        "id": "3PCi3F7uQqi_"
      },
      "source": [
        "Visualizar a distribuição dos estados dos interessados através de um gráfico de pizza: Na distribuição de regiões, estados por região e dos 10 estados mais significanteno\n"
      ]
    },
    {
      "cell_type": "code",
      "execution_count": 43,
      "metadata": {
        "colab": {
          "base_uri": "https://localhost:8080/",
          "height": 618
        },
        "id": "Yt8V3RXcQp-B",
        "outputId": "03f6ed9d-8155-43ed-f40e-811b20f5c5e2"
      },
      "outputs": [
        {
          "data": {
            "image/png": "[encoded data removed]",
            "text/plain": [
              "<Figure size 500x1000 with 1 Axes>"
            ]
          },
          "metadata": {},
          "output_type": "display_data"
        }
      ],
      "source": [
        "norte = ['amazonas', 'acre', 'roraima', 'rondonia', 'amapa', 'para', 'tocantins']\n",
        "nordeste = ['ceara', 'piaui', 'maranhao', 'rio grande do norte', 'paraiba', 'pernambuco', 'alagoas', 'sergipe', 'bahia']\n",
        "centro_oeste = ['mato grosso', 'goias', 'distrito federal', 'mato grosso do sul']\n",
        "sudeste = ['sao paulo', 'rio de janeiro', 'minas gerais', 'espirito santo']\n",
        "sul = ['parana', 'santa catarina', 'rio grande do sul']\n",
        "\n",
        "contagem_estados = df['estado'].value_counts()\n",
        "\n",
        "regioes = {\n",
        "    'norte': norte,\n",
        "    'nordeste': nordeste,\n",
        "    'centro-oeste': centro_oeste,\n",
        "    'sudeste': sudeste,\n",
        "    'sul': sul\n",
        "}\n",
        "\n",
        "frequencia_regiao ={\n",
        "    'norte': 0,\n",
        "    'nordeste': 0,\n",
        "    'centro-oeste': 0,\n",
        "    'sudeste': 0,\n",
        "    'sul': 0\n",
        "}\n",
        "\n",
        "def busca_regiao(estado):\n",
        "  regiao = None\n",
        "  for i in regioes.items():\n",
        "    for j in i[1]:\n",
        "      if j == estado:\n",
        "        regiao = i[0]\n",
        "        return regiao\n",
        "\n",
        "for frequencia in contagem_estados.items():\n",
        "  estado = frequencia[0]\n",
        "  valor = frequencia[1]\n",
        "  for busca in regioes.items():\n",
        "    for procura_estado in busca[1]:\n",
        "      if procura_estado == estado:\n",
        "        frequencia_regiao[busca[0]] += frequencia[1]\n",
        "\n",
        "#gráfico por região do brasil\n",
        "plt.figure(figsize=(5, 10))\n",
        "plt.pie(list(frequencia_regiao.values()) , labels=list(frequencia_regiao.keys()) , autopct='%1.1f%%', startangle=140)\n",
        "plt.show()\n",
        "\n",
        "\n",
        "df['regiao'] = None\n",
        "df['regiao']= df['estado'].apply(busca_regiao)\n",
        "\n",
        "\n",
        "\n",
        "\n",
        "\n",
        "\n",
        "\n",
        "\n",
        "\n",
        "\n"
      ]
    },
    {
      "cell_type": "markdown",
      "metadata": {},
      "source": [
        "Clientes por estados de cada regiao\n"
      ]
    },
    {
      "cell_type": "code",
      "execution_count": 42,
      "metadata": {},
      "outputs": [
        {
          "data": {
            "image/png": "[encoded data removed]",
            "text/plain": [
              "<Figure size 1000x500 with 1 Axes>"
            ]
          },
          "metadata": {},
          "output_type": "display_data"
        }
      ],
      "source": [
        "regiao = input()\n",
        "df_regiao = df[df['regiao'] == regiao]\n",
        "\n",
        "estados_regiao = regioes[regiao]\n",
        "frequencia_norte = df_regiao['estado'].value_counts()\n",
        "\n",
        "plt.figure(figsize=(10,5))\n",
        "plt.pie(frequencia_norte , labels=frequencia_norte.index , autopct='%1.1f%%', startangle=140)\n",
        "plt.show()"
      ]
    },
    {
      "cell_type": "markdown",
      "metadata": {
        "id": "6LXKi8shNPUw"
      },
      "source": [
        "Verificar domínio do E-mail e verificar os dominios empresariais que estão repetidos"
      ]
    },
    {
      "cell_type": "code",
      "execution_count": 55,
      "metadata": {
        "id": "TgNWzlsZNtvn"
      },
      "outputs": [
        {
          "ename": "TypeError",
          "evalue": "expected string or bytes-like object",
          "output_type": "error",
          "traceback": [
            "\u001b[0;31m---------------------------------------------------------------------------\u001b[0m",
            "\u001b[0;31mTypeError\u001b[0m                                 Traceback (most recent call last)",
            "Cell \u001b[0;32mIn[55], line 3\u001b[0m\n\u001b[1;32m      1\u001b[0m df[\u001b[38;5;124m'\u001b[39m\u001b[38;5;124mdata\u001b[39m\u001b[38;5;124m'\u001b[39m]\n\u001b[1;32m      2\u001b[0m padrao \u001b[38;5;241m=\u001b[39m \u001b[38;5;124mr\u001b[39m\u001b[38;5;124m\"\u001b[39m\u001b[38;5;124m(\u001b[39m\u001b[38;5;124m\\\u001b[39m\u001b[38;5;124md\u001b[39m\u001b[38;5;132;01m{4}\u001b[39;00m\u001b[38;5;124m)-(\u001b[39m\u001b[38;5;124m\\\u001b[39m\u001b[38;5;124md\u001b[39m\u001b[38;5;132;01m{2}\u001b[39;00m\u001b[38;5;124m)-(\u001b[39m\u001b[38;5;124m\\\u001b[39m\u001b[38;5;124md\u001b[39m\u001b[38;5;132;01m{2}\u001b[39;00m\u001b[38;5;124m)\u001b[39m\u001b[38;5;124m\"\u001b[39m\n\u001b[0;32m----> 3\u001b[0m correspondencia \u001b[38;5;241m=\u001b[39m \u001b[43mre\u001b[49m\u001b[38;5;241;43m.\u001b[39;49m\u001b[43mmatch\u001b[49m\u001b[43m(\u001b[49m\u001b[43mpadrao\u001b[49m\u001b[43m,\u001b[49m\u001b[43m \u001b[49m\u001b[43mdf\u001b[49m\u001b[43m[\u001b[49m\u001b[38;5;124;43m'\u001b[39;49m\u001b[38;5;124;43mdata\u001b[39;49m\u001b[38;5;124;43m'\u001b[39;49m\u001b[43m]\u001b[49m\u001b[43m)\u001b[49m\n",
            "File \u001b[0;32m~/.python/current/lib/python3.10/re.py:190\u001b[0m, in \u001b[0;36mmatch\u001b[0;34m(pattern, string, flags)\u001b[0m\n\u001b[1;32m    187\u001b[0m \u001b[38;5;28;01mdef\u001b[39;00m \u001b[38;5;21mmatch\u001b[39m(pattern, string, flags\u001b[38;5;241m=\u001b[39m\u001b[38;5;241m0\u001b[39m):\n\u001b[1;32m    188\u001b[0m \u001b[38;5;250m    \u001b[39m\u001b[38;5;124;03m\"\"\"Try to apply the pattern at the start of the string, returning\u001b[39;00m\n\u001b[1;32m    189\u001b[0m \u001b[38;5;124;03m    a Match object, or None if no match was found.\"\"\"\u001b[39;00m\n\u001b[0;32m--> 190\u001b[0m     \u001b[38;5;28;01mreturn\u001b[39;00m \u001b[43m_compile\u001b[49m\u001b[43m(\u001b[49m\u001b[43mpattern\u001b[49m\u001b[43m,\u001b[49m\u001b[43m \u001b[49m\u001b[43mflags\u001b[49m\u001b[43m)\u001b[49m\u001b[38;5;241;43m.\u001b[39;49m\u001b[43mmatch\u001b[49m\u001b[43m(\u001b[49m\u001b[43mstring\u001b[49m\u001b[43m)\u001b[49m\n",
            "\u001b[0;31mTypeError\u001b[0m: expected string or bytes-like object"
          ]
        }
      ],
      "source": []
    },
    {
      "cell_type": "markdown",
      "metadata": {
        "id": "fNRsZNduzfms"
      },
      "source": [
        "Gráfico de distríbuição em relação aos meses em que os clientes entraram em contato"
      ]
    },
    {
      "cell_type": "code",
      "execution_count": 74,
      "metadata": {
        "id": "AgAQFHlBznQD"
      },
      "outputs": [
        {
          "name": "stdout",
          "output_type": "stream",
          "text": [
            "{'01': 8460, '02': 7994, '03': 8537, '04': 8094, '05': 8584, '06': 8234, '07': 8395, '08': 8575, '09': 8289, '10': 8465, '11': 8198, '12': 8175}\n"
          ]
        },
        {
          "data": {
            "image/png": "[encoded data removed]",
            "text/plain": [
              "<Figure size 640x480 with 1 Axes>"
            ]
          },
          "metadata": {},
          "output_type": "display_data"
        }
      ],
      "source": [
        "import re\n",
        "\n",
        "frequencia_datas = {}\n",
        "\n",
        "#regex para extrair mes da data\n",
        "padrao = r\"(\\d{4})-(\\d{2})-(\\d{2})\"\n",
        "\n",
        "for i in range(1 , 13):\n",
        "    if i < 10:\n",
        "        mes_formato = f'0{i}'     \n",
        "    else:\n",
        "        mes_formato = f'{i}'\n",
        "    frequencia_datas[mes_formato] = 0\n",
        "\n",
        "\n",
        "for i in df['data']:\n",
        "    ano = re.match(padrao, i).group(1)\n",
        "    mes = re.match(padrao, i).group(2)\n",
        "    dia = re.match(padrao, i).group(3)\n",
        "    if mes in frequencia_datas:\n",
        "        frequencia_datas[mes] += 1\n",
        "\n",
        "print(frequencia_datas)\n",
        "\n",
        "x = frequencia_datas.keys()\n",
        "y =  frequencia_datas.values()\n",
        "\n",
        "\n",
        "plt.plot(x, y, marker='o', linestyle='-', color='b')\n",
        "plt.xlabel('Meses')\n",
        "plt.ylabel('Quantidade de Clientes')\n",
        "plt.title('quantidade de clientes por meses')\n",
        "plt.grid(True)\n",
        "plt.show()"
      ]
    },
    {
      "cell_type": "markdown",
      "metadata": {
        "id": "LeWTtL8iNuB0"
      },
      "source": [
        "aplicar coluna sobre status de negociação, por padrão vazio"
      ]
    },
    {
      "cell_type": "code",
      "execution_count": 76,
      "metadata": {
        "id": "NvO4PSHbN72N"
      },
      "outputs": [],
      "source": [
        "df['status de negociacao'] = 'Null'\n",
        "df.head()\n",
        "df.to_csv('Clientes.csv' , index=False)\n"
      ]
    },
    {
      "cell_type": "markdown",
      "metadata": {
        "id": "GaBvC1DyQ5Qm"
      },
      "source": [
        "Analisar a relação entre o cargo e o status de negociação:\n"
      ]
    },
    {
      "cell_type": "code",
      "execution_count": null,
      "metadata": {
        "id": "gKXNAe9TQ597"
      },
      "outputs": [],
      "source": [
        "Analisar a relação entre o cargo e o status de negociação:\n"
      ]
    },
    {
      "cell_type": "markdown",
      "metadata": {
        "id": "KG163kN0N8jP"
      },
      "source": [
        "Importar esses dados para o banco de dados de forma automatizada"
      ]
    },
    {
      "cell_type": "code",
      "execution_count": null,
      "metadata": {
        "id": "vtYTo8UQOLwD"
      },
      "outputs": [],
      "source": []
    },
    {
      "cell_type": "markdown",
      "metadata": {
        "id": "rMyvb265Qs1A"
      },
      "source": [
        "Com base no nome saber se é homem ou mulher -> NLP"
      ]
    }
  ],
  "metadata": {
    "colab": {
      "authorship_tag": "ABX9TyOzJG1Td4kBderJR/6zlYve",
      "include_colab_link": true,
      "provenance": []
    },
    "kernelspec": {
      "display_name": "Python 3",
      "name": "python3"
    },
    "language_info": {
      "codemirror_mode": {
        "name": "ipython",
        "version": 3
      },
      "file_extension": ".py",
      "mimetype": "text/x-python",
      "name": "python",
      "nbconvert_exporter": "python",
      "pygments_lexer": "ipython3",
      "version": "3.10.13"
    }
  },
  "nbformat": 4,
  "nbformat_minor": 0
}
